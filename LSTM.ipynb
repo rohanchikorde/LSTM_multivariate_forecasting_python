{
 "cells": [
  {
   "cell_type": "code",
   "execution_count": 1,
   "metadata": {},
   "outputs": [],
   "source": [
    "# Deep Learning model using LSTM"
   ]
  },
  {
   "cell_type": "code",
   "execution_count": 2,
   "metadata": {},
   "outputs": [],
   "source": [
    "import numpy as np\n",
    "import pandas as pd\n",
    "import urllib\n",
    "url = \"https://goo.gl/uWbihf\"\n",
    "data = pd.read_csv (url, sep =\";\")\n",
    "loc = \"C:\\\\Users\\\\dell\\\\Desktop\\\\Rohan\\\\model\\\\Monthly Sunspots.csv\"\n",
    "data.to_csv(loc, index = False )\n",
    "data_csv = pd.read_csv(loc, header = None )"
   ]
  },
  {
   "cell_type": "code",
   "execution_count": 76,
   "metadata": {},
   "outputs": [],
   "source": [
    "yt=data_csv.iloc[0:3210 ,3]"
   ]
  },
  {
   "cell_type": "code",
   "execution_count": 77,
   "metadata": {},
   "outputs": [
    {
     "name": "stdout",
     "output_type": "stream",
     "text": [
      "0     96.7\n",
      "1    104.3\n",
      "2    116.7\n",
      "3     92.8\n",
      "4    141.7\n",
      "Name: 3, dtype: float64\n"
     ]
    }
   ],
   "source": [
    "print(yt.head())"
   ]
  },
  {
   "cell_type": "code",
   "execution_count": 82,
   "metadata": {},
   "outputs": [
    {
     "data": {
      "text/plain": [
       "3205    56.4\n",
       "3206    54.1\n",
       "3207    37.9\n",
       "3208    51.5\n",
       "3209    20.5\n",
       "Name: 3, dtype: float64"
      ]
     },
     "execution_count": 82,
     "metadata": {},
     "output_type": "execute_result"
    }
   ],
   "source": [
    "yt.tail()"
   ]
  },
  {
   "cell_type": "code",
   "execution_count": null,
   "metadata": {},
   "outputs": [],
   "source": []
  },
  {
   "cell_type": "code",
   "execution_count": 5,
   "metadata": {},
   "outputs": [
    {
     "name": "stdout",
     "output_type": "stream",
     "text": [
      "Requirement already satisfied: statsmodels in c:\\users\\dell\\anaconda3\\lib\\site-packages (0.10.1)\n",
      "Requirement already satisfied: numpy>=1.11 in c:\\users\\dell\\anaconda3\\lib\\site-packages (from statsmodels) (1.16.5)\n",
      "Requirement already satisfied: scipy>=0.18 in c:\\users\\dell\\anaconda3\\lib\\site-packages (from statsmodels) (1.3.1)\n",
      "Requirement already satisfied: pandas>=0.19 in c:\\users\\dell\\anaconda3\\lib\\site-packages (from statsmodels) (0.25.1)\n",
      "Requirement already satisfied: patsy>=0.4.0 in c:\\users\\dell\\anaconda3\\lib\\site-packages (from statsmodels) (0.5.1)\n",
      "Requirement already satisfied: python-dateutil>=2.6.1 in c:\\users\\dell\\anaconda3\\lib\\site-packages (from pandas>=0.19->statsmodels) (2.8.0)\n",
      "Requirement already satisfied: pytz>=2017.2 in c:\\users\\dell\\anaconda3\\lib\\site-packages (from pandas>=0.19->statsmodels) (2019.3)\n",
      "Requirement already satisfied: six in c:\\users\\dell\\anaconda3\\lib\\site-packages (from patsy>=0.4.0->statsmodels) (1.12.0)\n"
     ]
    }
   ],
   "source": [
    "!pip3 install statsmodels"
   ]
  },
  {
   "cell_type": "code",
   "execution_count": 15,
   "metadata": {},
   "outputs": [],
   "source": [
    "from statsmodels.tsa.stattools import pacf\n"
   ]
  },
  {
   "cell_type": "code",
   "execution_count": 9,
   "metadata": {},
   "outputs": [
    {
     "data": {
      "text/plain": [
       "array([ 1.00000000e+00,  9.16988688e-01,  2.73229024e-01,  1.91578477e-01,\n",
       "        1.40770658e-01,  6.24773492e-02,  5.20282296e-02, -1.25139157e-02,\n",
       "        1.84620043e-02,  3.63264636e-02, -4.82746402e-02, -5.37070742e-02,\n",
       "       -6.56492408e-02, -7.71763257e-02, -4.53732514e-02, -6.19153840e-02,\n",
       "       -9.77329104e-02, -6.60940870e-02, -9.45315606e-02, -3.90225063e-02,\n",
       "       -5.19506186e-02, -5.88824378e-02, -3.86916023e-03, -6.82764163e-04,\n",
       "       -5.65303236e-02,  3.79362879e-02, -3.31765360e-02, -6.49203717e-02,\n",
       "       -2.94703923e-02, -3.03595527e-02,  1.72621989e-02, -3.01891181e-02,\n",
       "        2.02131232e-02, -3.18439997e-02, -4.10513465e-02, -1.91054692e-02,\n",
       "       -8.37831692e-03, -5.67418402e-03,  3.95280771e-03, -1.27290752e-02,\n",
       "        2.38463992e-02])"
      ]
     },
     "execution_count": 9,
     "metadata": {},
     "output_type": "execute_result"
    }
   ],
   "source": [
    "pacf(yt, nlags=40, method='ols')"
   ]
  },
  {
   "cell_type": "code",
   "execution_count": 16,
   "metadata": {},
   "outputs": [],
   "source": [
    "# plot pacf and check correlation"
   ]
  },
  {
   "cell_type": "code",
   "execution_count": 18,
   "metadata": {},
   "outputs": [],
   "source": [
    "yt_1 =yt.shift (1)\n",
    "yt_2 =yt.shift (2)\n",
    "yt_3 =yt.shift (3)\n",
    "yt_4 =yt.shift (4)\n",
    "yt_5 =yt.shift (5)"
   ]
  },
  {
   "cell_type": "code",
   "execution_count": 21,
   "metadata": {},
   "outputs": [],
   "source": [
    "data =pd.concat ([yt ,yt_1 , yt_2 ,yt_3 ,yt_4 , yt_5 ], axis =1)\n",
    "data.columns = ['yt', 'yt_1', 'yt_2','yt_3','yt_4','yt_5']"
   ]
  },
  {
   "cell_type": "code",
   "execution_count": 22,
   "metadata": {},
   "outputs": [
    {
     "name": "stdout",
     "output_type": "stream",
     "text": [
      "        yt  yt_1  yt_2  yt_3  yt_4  yt_5\n",
      "3205  56.4  57.0  58.0  62.2  63.6  78.6\n",
      "3206  54.1  56.4  57.0  58.0  62.2  63.6\n",
      "3207  37.9  54.1  56.4  57.0  58.0  62.2\n",
      "3208  51.5  37.9  54.1  56.4  57.0  58.0\n",
      "3209  20.5  51.5  37.9  54.1  56.4  57.0\n"
     ]
    }
   ],
   "source": [
    "print(data.tail())"
   ]
  },
  {
   "cell_type": "code",
   "execution_count": 23,
   "metadata": {},
   "outputs": [
    {
     "name": "stdout",
     "output_type": "stream",
     "text": [
      "      yt   yt_1   yt_2   yt_3  yt_4  yt_5\n",
      "0   96.7    NaN    NaN    NaN   NaN   NaN\n",
      "1  104.3   96.7    NaN    NaN   NaN   NaN\n",
      "2  116.7  104.3   96.7    NaN   NaN   NaN\n",
      "3   92.8  116.7  104.3   96.7   NaN   NaN\n",
      "4  141.7   92.8  116.7  104.3  96.7   NaN\n"
     ]
    }
   ],
   "source": [
    "print(data.head())"
   ]
  },
  {
   "cell_type": "code",
   "execution_count": 24,
   "metadata": {},
   "outputs": [],
   "source": [
    "data = data.dropna()"
   ]
  },
  {
   "cell_type": "code",
   "execution_count": 25,
   "metadata": {},
   "outputs": [],
   "source": [
    "y = data['yt']"
   ]
  },
  {
   "cell_type": "code",
   "execution_count": 26,
   "metadata": {},
   "outputs": [],
   "source": [
    "cols = ['yt_1', 'yt_2', 'yt_3', 'yt_4', 'yt_5']"
   ]
  },
  {
   "cell_type": "code",
   "execution_count": 27,
   "metadata": {},
   "outputs": [],
   "source": [
    "x = data[cols]"
   ]
  },
  {
   "cell_type": "code",
   "execution_count": 28,
   "metadata": {},
   "outputs": [
    {
     "name": "stdout",
     "output_type": "stream",
     "text": [
      "3205    56.4\n",
      "3206    54.1\n",
      "3207    37.9\n",
      "3208    51.5\n",
      "3209    20.5\n",
      "Name: yt, dtype: float64\n"
     ]
    }
   ],
   "source": [
    "print(y.tail())"
   ]
  },
  {
   "cell_type": "code",
   "execution_count": 29,
   "metadata": {},
   "outputs": [
    {
     "name": "stdout",
     "output_type": "stream",
     "text": [
      "5    139.2\n",
      "6    158.0\n",
      "7    110.5\n",
      "8    126.5\n",
      "9    125.8\n",
      "Name: yt, dtype: float64\n"
     ]
    }
   ],
   "source": [
    "print(y.head())"
   ]
  },
  {
   "cell_type": "code",
   "execution_count": 30,
   "metadata": {},
   "outputs": [
    {
     "name": "stdout",
     "output_type": "stream",
     "text": [
      "    yt_1   yt_2   yt_3   yt_4   yt_5\n",
      "5  141.7   92.8  116.7  104.3   96.7\n",
      "6  139.2  141.7   92.8  116.7  104.3\n",
      "7  158.0  139.2  141.7   92.8  116.7\n",
      "8  110.5  158.0  139.2  141.7   92.8\n",
      "9  126.5  110.5  158.0  139.2  141.7\n"
     ]
    }
   ],
   "source": [
    "print(x.head())"
   ]
  },
  {
   "cell_type": "code",
   "execution_count": 31,
   "metadata": {},
   "outputs": [
    {
     "name": "stdout",
     "output_type": "stream",
     "text": [
      "      yt_1  yt_2  yt_3  yt_4  yt_5\n",
      "3205  57.0  58.0  62.2  63.6  78.6\n",
      "3206  56.4  57.0  58.0  62.2  63.6\n",
      "3207  54.1  56.4  57.0  58.0  62.2\n",
      "3208  37.9  54.1  56.4  57.0  58.0\n",
      "3209  51.5  37.9  54.1  56.4  57.0\n"
     ]
    }
   ],
   "source": [
    "print(x.tail())"
   ]
  },
  {
   "cell_type": "code",
   "execution_count": 32,
   "metadata": {},
   "outputs": [],
   "source": [
    "from sklearn import preprocessing"
   ]
  },
  {
   "cell_type": "code",
   "execution_count": 39,
   "metadata": {},
   "outputs": [],
   "source": [
    "scaler_x = preprocessing.MinMaxScaler(feature_range=(-1, 1))"
   ]
  },
  {
   "cell_type": "code",
   "execution_count": 40,
   "metadata": {},
   "outputs": [],
   "source": [
    "x = np.array(x).reshape((len(x), 5))"
   ]
  },
  {
   "cell_type": "code",
   "execution_count": 41,
   "metadata": {},
   "outputs": [
    {
     "data": {
      "text/plain": [
       "array([[141.7,  92.8, 116.7, 104.3,  96.7],\n",
       "       [139.2, 141.7,  92.8, 116.7, 104.3],\n",
       "       [158. , 139.2, 141.7,  92.8, 116.7],\n",
       "       ...,\n",
       "       [ 54.1,  56.4,  57. ,  58. ,  62.2],\n",
       "       [ 37.9,  54.1,  56.4,  57. ,  58. ],\n",
       "       [ 51.5,  37.9,  54.1,  56.4,  57. ]])"
      ]
     },
     "execution_count": 41,
     "metadata": {},
     "output_type": "execute_result"
    }
   ],
   "source": [
    "x"
   ]
  },
  {
   "cell_type": "code",
   "execution_count": 42,
   "metadata": {},
   "outputs": [],
   "source": [
    "x = scaler_x.fit_transform(x)"
   ]
  },
  {
   "cell_type": "code",
   "execution_count": 43,
   "metadata": {},
   "outputs": [
    {
     "data": {
      "text/plain": [
       "array([[-0.28829734, -0.53390256, -0.41386238, -0.47614264, -0.51431441],\n",
       "       [-0.30085384, -0.28829734, -0.53390256, -0.41386238, -0.47614264],\n",
       "       [-0.20642893, -0.30085384, -0.28829734, -0.53390256, -0.41386238],\n",
       "       ...,\n",
       "       [-0.72827725, -0.71672526, -0.7137117 , -0.7086891 , -0.68759417],\n",
       "       [-0.8096434 , -0.72827725, -0.71672526, -0.7137117 , -0.7086891 ],\n",
       "       [-0.74133601, -0.8096434 , -0.72827725, -0.71672526, -0.7137117 ]])"
      ]
     },
     "execution_count": 43,
     "metadata": {},
     "output_type": "execute_result"
    }
   ],
   "source": [
    "x"
   ]
  },
  {
   "cell_type": "code",
   "execution_count": 44,
   "metadata": {},
   "outputs": [],
   "source": [
    "scaler_y = preprocessing.MinMaxScaler(feature_range=(-1,1))"
   ]
  },
  {
   "cell_type": "code",
   "execution_count": 45,
   "metadata": {},
   "outputs": [],
   "source": [
    "y = np.array(y).reshape((len(y), 1))"
   ]
  },
  {
   "cell_type": "code",
   "execution_count": 46,
   "metadata": {},
   "outputs": [],
   "source": [
    "y = scaler_y.fit_transform(y)"
   ]
  },
  {
   "cell_type": "code",
   "execution_count": 47,
   "metadata": {},
   "outputs": [
    {
     "data": {
      "text/plain": [
       "array([[-0.30085384],\n",
       "       [-0.20642893],\n",
       "       [-0.44500251],\n",
       "       ...,\n",
       "       [-0.8096434 ],\n",
       "       [-0.74133601],\n",
       "       [-0.89703666]])"
      ]
     },
     "execution_count": 47,
     "metadata": {},
     "output_type": "execute_result"
    }
   ],
   "source": [
    "y"
   ]
  },
  {
   "cell_type": "code",
   "execution_count": 48,
   "metadata": {},
   "outputs": [],
   "source": [
    "train_end = 3042"
   ]
  },
  {
   "cell_type": "code",
   "execution_count": 49,
   "metadata": {},
   "outputs": [],
   "source": [
    "x_train = x[0:train_end,]"
   ]
  },
  {
   "cell_type": "code",
   "execution_count": 51,
   "metadata": {},
   "outputs": [],
   "source": [
    "x_test = x[train_end+1:3205,]"
   ]
  },
  {
   "cell_type": "code",
   "execution_count": 52,
   "metadata": {},
   "outputs": [],
   "source": [
    "y_train = y[0:train_end,]"
   ]
  },
  {
   "cell_type": "code",
   "execution_count": 53,
   "metadata": {},
   "outputs": [],
   "source": [
    "y_test = y[train_end+1: 3205]"
   ]
  },
  {
   "cell_type": "code",
   "execution_count": 57,
   "metadata": {},
   "outputs": [
    {
     "data": {
      "text/plain": [
       "(3042, 5)"
      ]
     },
     "execution_count": 57,
     "metadata": {},
     "output_type": "execute_result"
    }
   ],
   "source": [
    "x_train.shape"
   ]
  },
  {
   "cell_type": "code",
   "execution_count": 58,
   "metadata": {},
   "outputs": [
    {
     "data": {
      "text/plain": [
       "(162, 5)"
      ]
     },
     "execution_count": 58,
     "metadata": {},
     "output_type": "execute_result"
    }
   ],
   "source": [
    "x_test.shape\n"
   ]
  },
  {
   "cell_type": "code",
   "execution_count": 59,
   "metadata": {},
   "outputs": [
    {
     "data": {
      "text/plain": [
       "(3042, 1)"
      ]
     },
     "execution_count": 59,
     "metadata": {},
     "output_type": "execute_result"
    }
   ],
   "source": [
    "y_train.shape\n"
   ]
  },
  {
   "cell_type": "code",
   "execution_count": 60,
   "metadata": {},
   "outputs": [
    {
     "data": {
      "text/plain": [
       "(162, 1)"
      ]
     },
     "execution_count": 60,
     "metadata": {},
     "output_type": "execute_result"
    }
   ],
   "source": [
    "y_test.shape"
   ]
  },
  {
   "cell_type": "code",
   "execution_count": 61,
   "metadata": {},
   "outputs": [],
   "source": [
    "x_train = x_train.reshape(x_train.shape + (1,))"
   ]
  },
  {
   "cell_type": "code",
   "execution_count": 62,
   "metadata": {},
   "outputs": [],
   "source": [
    "x_test = x_test.reshape(x_test.shape + (1,))"
   ]
  },
  {
   "cell_type": "code",
   "execution_count": 63,
   "metadata": {},
   "outputs": [
    {
     "name": "stdout",
     "output_type": "stream",
     "text": [
      "(3042, 5, 1)\n"
     ]
    }
   ],
   "source": [
    "print(x_train.shape)"
   ]
  },
  {
   "cell_type": "code",
   "execution_count": 65,
   "metadata": {},
   "outputs": [
    {
     "name": "stdout",
     "output_type": "stream",
     "text": [
      "^C\n",
      "Collecting keras\n",
      "  Downloading https://files.pythonhosted.org/packages/ad/fd/6bfe87920d7f4fd475acd28500a42482b6b84479832bdc0fe9e589a60ceb/Keras-2.3.1-py2.py3-none-any.whl (377kB)\n",
      "Requirement already satisfied: scipy>=0.14 in c:\\users\\dell\\anaconda3\\lib\\site-packages (from keras) (1.3.1)\n",
      "Requirement already satisfied: keras-applications>=1.0.6 in c:\\users\\dell\\anaconda3\\lib\\site-packages (from keras) (1.0.8)\n",
      "Requirement already satisfied: keras-preprocessing>=1.0.5 in c:\\users\\dell\\anaconda3\\lib\\site-packages (from keras) (1.1.0)\n",
      "Requirement already satisfied: numpy>=1.9.1 in c:\\users\\dell\\anaconda3\\lib\\site-packages (from keras) (1.16.5)\n",
      "Requirement already satisfied: pyyaml in c:\\users\\dell\\anaconda3\\lib\\site-packages (from keras) (5.1.2)\n",
      "Requirement already satisfied: six>=1.9.0 in c:\\users\\dell\\anaconda3\\lib\\site-packages (from keras) (1.12.0)\n",
      "Requirement already satisfied: h5py in c:\\users\\dell\\anaconda3\\lib\\site-packages (from keras) (2.9.0)\n",
      "Installing collected packages: keras\n",
      "Successfully installed keras-2.3.1\n"
     ]
    }
   ],
   "source": [
    "# !pip3 install tensorflow\n",
    "# !pip3 install keras"
   ]
  },
  {
   "cell_type": "code",
   "execution_count": null,
   "metadata": {},
   "outputs": [],
   "source": [
    "from keras.models import Sequential\n",
    "\n",
    "from keras.layers.core import Dense, Activation\n",
    "from keras.layers.recurrent import LSTM\n",
    "seed =2016\n",
    "np.random.seed(seed)\n",
    "fit1 = Sequential()\n",
    "fit1.add(LSTM(output_dim =4, activation ='tanh', inner_activation ='hard_sigmoid', \n",
    "              input_shape =(5 , 1)))\n",
    "fit1.add(Dense(output_dim=1, activation ='linear'))"
   ]
  },
  {
   "cell_type": "code",
   "execution_count": 67,
   "metadata": {},
   "outputs": [],
   "source": [
    "fit1.compile(loss =\"mean_squared_error\", \n",
    "             optimizer =\"rmsprop\")"
   ]
  },
  {
   "cell_type": "code",
   "execution_count": 83,
   "metadata": {},
   "outputs": [
    {
     "name": "stdout",
     "output_type": "stream",
     "text": [
      "Epoch 1/10\n",
      "   8/3042 [..............................] - ETA: 1:07 - loss: 0.0252"
     ]
    },
    {
     "name": "stderr",
     "output_type": "stream",
     "text": [
      "C:\\Users\\dell\\Anaconda3\\lib\\site-packages\\ipykernel_launcher.py:2: UserWarning: The `nb_epoch` argument in `fit` has been renamed `epochs`.\n",
      "  \n"
     ]
    },
    {
     "name": "stdout",
     "output_type": "stream",
     "text": [
      "3042/3042 [==============================] - 21s 7ms/step - loss: 0.0195\n",
      "Epoch 2/10\n",
      "3042/3042 [==============================] - 15s 5ms/step - loss: 0.0189\n",
      "Epoch 3/10\n",
      "3042/3042 [==============================] - 15s 5ms/step - loss: 0.0186\n",
      "Epoch 4/10\n",
      "3042/3042 [==============================] - 16s 5ms/step - loss: 0.0184\n",
      "Epoch 5/10\n",
      "3042/3042 [==============================] - 16s 5ms/step - loss: 0.0183\n",
      "Epoch 6/10\n",
      "3042/3042 [==============================] - 17s 6ms/step - loss: 0.0182\n",
      "Epoch 7/10\n",
      "3042/3042 [==============================] - 17s 5ms/step - loss: 0.0181\n",
      "Epoch 8/10\n",
      "3042/3042 [==============================] - 16s 5ms/step - loss: 0.0181\n",
      "Epoch 9/10\n",
      "3042/3042 [==============================] - 15s 5ms/step - loss: 0.0180\n",
      "Epoch 10/10\n",
      "3042/3042 [==============================] - 15s 5ms/step - loss: 0.0180\n"
     ]
    },
    {
     "data": {
      "text/plain": [
       "<keras.callbacks.callbacks.History at 0x1fecfdb5f88>"
      ]
     },
     "execution_count": 83,
     "metadata": {},
     "output_type": "execute_result"
    }
   ],
   "source": [
    "fit1.fit(x_train, y_train, batch_size=1, \n",
    "          epochs =10 , shuffle = True )"
   ]
  },
  {
   "cell_type": "code",
   "execution_count": 84,
   "metadata": {},
   "outputs": [
    {
     "name": "stdout",
     "output_type": "stream",
     "text": [
      "3042/3042 [==============================] - 13s 4ms/step\n",
      "162/162 [==============================] - 1s 3ms/step\n"
     ]
    }
   ],
   "source": [
    "score_train = fit1.evaluate(x_train , y_train , batch_size =1)\n",
    "score_test = fit1.evaluate(x_test , y_test , batch_size =1)"
   ]
  },
  {
   "cell_type": "code",
   "execution_count": 85,
   "metadata": {},
   "outputs": [
    {
     "name": "stdout",
     "output_type": "stream",
     "text": [
      "in train MSE =  0.0175\n"
     ]
    }
   ],
   "source": [
    "print(\"in train MSE = \", round( score_train , 4))"
   ]
  },
  {
   "cell_type": "code",
   "execution_count": 86,
   "metadata": {},
   "outputs": [
    {
     "name": "stdout",
     "output_type": "stream",
     "text": [
      "in test MSE =  0.0076\n"
     ]
    }
   ],
   "source": [
    "print(\"in test MSE = \", round( score_test ,4))"
   ]
  },
  {
   "cell_type": "code",
   "execution_count": 87,
   "metadata": {},
   "outputs": [],
   "source": [
    "pred1 = fit1.predict(x_test)\n",
    "pred1 = scaler_y.inverse_transform(np.array(pred1).reshape((len(pred1), 1)))\n",
    "\n",
    "y_act = scaler_y.inverse_transform(np.array(y_test))"
   ]
  },
  {
   "cell_type": "code",
   "execution_count": 88,
   "metadata": {},
   "outputs": [
    {
     "data": {
      "text/plain": [
       "array([[141.94547  ],\n",
       "       [133.63435  ],\n",
       "       [106.47105  ],\n",
       "       [ 99.49546  ],\n",
       "       [ 95.06303  ],\n",
       "       [ 88.17561  ],\n",
       "       [ 99.93991  ],\n",
       "       [110.48217  ],\n",
       "       [112.25101  ],\n",
       "       [ 98.21011  ],\n",
       "       [ 95.11684  ],\n",
       "       [ 86.778496 ],\n",
       "       [ 77.61045  ],\n",
       "       [ 68.94947  ],\n",
       "       [ 68.29147  ],\n",
       "       [ 68.96855  ],\n",
       "       [ 63.54905  ],\n",
       "       [ 66.25026  ],\n",
       "       [ 64.94229  ],\n",
       "       [ 71.11228  ],\n",
       "       [ 70.22696  ],\n",
       "       [ 59.938618 ],\n",
       "       [ 64.01415  ],\n",
       "       [ 64.58319  ],\n",
       "       [ 47.930634 ],\n",
       "       [ 46.331707 ],\n",
       "       [ 42.809734 ],\n",
       "       [ 38.596943 ],\n",
       "       [ 37.742596 ],\n",
       "       [ 46.281605 ],\n",
       "       [ 50.12504  ],\n",
       "       [ 54.951912 ],\n",
       "       [ 57.279278 ],\n",
       "       [ 47.61145  ],\n",
       "       [ 31.353224 ],\n",
       "       [ 26.634174 ],\n",
       "       [ 36.93218  ],\n",
       "       [ 29.211298 ],\n",
       "       [ 19.083662 ],\n",
       "       [ 17.075527 ],\n",
       "       [ 27.379179 ],\n",
       "       [ 31.131638 ],\n",
       "       [ 28.804487 ],\n",
       "       [ 25.658659 ],\n",
       "       [ 21.405472 ],\n",
       "       [ 20.243334 ],\n",
       "       [ 16.983343 ],\n",
       "       [ 23.330345 ],\n",
       "       [ 22.381224 ],\n",
       "       [ 24.062748 ],\n",
       "       [ 21.517784 ],\n",
       "       [ 13.764365 ],\n",
       "       [  9.764639 ],\n",
       "       [ 11.644227 ],\n",
       "       [ 14.780514 ],\n",
       "       [ 15.080922 ],\n",
       "       [ 13.205463 ],\n",
       "       [  8.864316 ],\n",
       "       [  5.501673 ],\n",
       "       [  4.459702 ],\n",
       "       [  9.178016 ],\n",
       "       [  7.9917617],\n",
       "       [  6.6430926],\n",
       "       [ 10.174986 ],\n",
       "       [  7.164185 ],\n",
       "       [  6.8167343],\n",
       "       [  6.7928815],\n",
       "       [  4.0890865],\n",
       "       [  3.5415301],\n",
       "       [  3.2324347],\n",
       "       [  4.048168 ],\n",
       "       [  5.7903333],\n",
       "       [  4.829534 ],\n",
       "       [  4.197411 ],\n",
       "       [  3.6216817],\n",
       "       [  2.9172397],\n",
       "       [  3.2031462],\n",
       "       [  3.8243988],\n",
       "       [  5.3995194],\n",
       "       [  6.1526885],\n",
       "       [  4.5991898],\n",
       "       [  5.9359684],\n",
       "       [  6.860596 ],\n",
       "       [  7.2131968],\n",
       "       [ 11.131608 ],\n",
       "       [ 14.058911 ],\n",
       "       [ 19.351696 ],\n",
       "       [ 21.300589 ],\n",
       "       [ 16.220087 ],\n",
       "       [ 14.272831 ],\n",
       "       [ 14.541079 ],\n",
       "       [ 17.644232 ],\n",
       "       [ 22.33233  ],\n",
       "       [ 27.749058 ],\n",
       "       [ 29.740791 ],\n",
       "       [ 30.972948 ],\n",
       "       [ 27.35414  ],\n",
       "       [ 25.720821 ],\n",
       "       [ 33.60103  ],\n",
       "       [ 51.767113 ],\n",
       "       [ 63.369118 ],\n",
       "       [ 62.38195  ],\n",
       "       [ 59.494804 ],\n",
       "       [ 59.469955 ],\n",
       "       [ 60.06624  ],\n",
       "       [ 83.910675 ],\n",
       "       [102.57338  ],\n",
       "       [119.41372  ],\n",
       "       [117.06502  ],\n",
       "       [105.91217  ],\n",
       "       [ 79.35501  ],\n",
       "       [ 76.64161  ],\n",
       "       [ 77.14243  ],\n",
       "       [ 83.3339   ],\n",
       "       [ 87.98533  ],\n",
       "       [ 92.05256  ],\n",
       "       [ 92.3913   ],\n",
       "       [ 91.47213  ],\n",
       "       [ 83.8999   ],\n",
       "       [ 83.05219  ],\n",
       "       [ 70.21656  ],\n",
       "       [ 77.85549  ],\n",
       "       [ 69.87543  ],\n",
       "       [ 71.060776 ],\n",
       "       [ 85.67826  ],\n",
       "       [ 98.88463  ],\n",
       "       [ 90.801346 ],\n",
       "       [ 88.15489  ],\n",
       "       [ 87.23126  ],\n",
       "       [ 70.5423   ],\n",
       "       [ 86.15741  ],\n",
       "       [ 96.80519  ],\n",
       "       [108.01591  ],\n",
       "       [113.75944  ],\n",
       "       [125.51239  ],\n",
       "       [125.91175  ],\n",
       "       [118.8373   ],\n",
       "       [114.56048  ],\n",
       "       [106.28962  ],\n",
       "       [100.80406  ],\n",
       "       [101.0646   ],\n",
       "       [110.88639  ],\n",
       "       [101.414894 ],\n",
       "       [100.82011  ],\n",
       "       [103.91028  ],\n",
       "       [ 96.70686  ],\n",
       "       [ 83.021034 ],\n",
       "       [ 68.6963   ],\n",
       "       [ 67.22359  ],\n",
       "       [ 73.40844  ],\n",
       "       [ 69.935616 ],\n",
       "       [ 67.80209  ],\n",
       "       [ 64.90935  ],\n",
       "       [ 68.06094  ],\n",
       "       [ 65.18315  ],\n",
       "       [ 62.691093 ],\n",
       "       [ 59.48332  ],\n",
       "       [ 56.237213 ],\n",
       "       [ 54.59962  ],\n",
       "       [ 52.821167 ],\n",
       "       [ 45.078094 ],\n",
       "       [ 45.746746 ]], dtype=float32)"
      ]
     },
     "execution_count": 88,
     "metadata": {},
     "output_type": "execute_result"
    }
   ],
   "source": [
    "pred1\n"
   ]
  },
  {
   "cell_type": "code",
   "execution_count": null,
   "metadata": {},
   "outputs": [],
   "source": []
  }
 ],
 "metadata": {
  "kernelspec": {
   "display_name": "Python 3",
   "language": "python",
   "name": "python3"
  },
  "language_info": {
   "codemirror_mode": {
    "name": "ipython",
    "version": 3
   },
   "file_extension": ".py",
   "mimetype": "text/x-python",
   "name": "python",
   "nbconvert_exporter": "python",
   "pygments_lexer": "ipython3",
   "version": "3.7.4"
  }
 },
 "nbformat": 4,
 "nbformat_minor": 2
}
